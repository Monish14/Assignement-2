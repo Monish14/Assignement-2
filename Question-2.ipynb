{
 "cells": [
  {
   "cell_type": "markdown",
   "metadata": {},
   "source": [
    "# Question 2\n",
    "Function fileLength(), given to you, takes the name of a file as input and returns\n",
    "the length of the file"
   ]
  },
  {
   "cell_type": "code",
   "execution_count": 3,
   "metadata": {},
   "outputs": [],
   "source": [
    "def filelength(name):\n",
    "    try:\n",
    "        infile=open(name)\n",
    "        ca=infile.readline()\n",
    "        count=len(ca)\n",
    "        print(count)\n",
    "    except FileNotFoundError:\n",
    "        print(\"File \",name,\" not found.\")"
   ]
  },
  {
   "cell_type": "code",
   "execution_count": 2,
   "metadata": {},
   "outputs": [
    {
     "name": "stdout",
     "output_type": "stream",
     "text": [
      "101\n"
     ]
    }
   ],
   "source": [
    "filelength(r'C:\\Users\\DELL\\Desktop\\Monish\\Data Programming\\Assignement2\\bloodtype.txt')"
   ]
  },
  {
   "cell_type": "code",
   "execution_count": 4,
   "metadata": {},
   "outputs": [
    {
     "name": "stdout",
     "output_type": "stream",
     "text": [
      "File  C:\\Users\\DELL\\Desktop\\Monish\\Data Programming\\Assignement2\\bloodtype1.txt  not found.\n"
     ]
    }
   ],
   "source": [
    "filelength(r'C:\\Users\\DELL\\Desktop\\Monish\\Data Programming\\Assignement2\\bloodtype1.txt')"
   ]
  },
  {
   "cell_type": "code",
   "execution_count": null,
   "metadata": {},
   "outputs": [],
   "source": []
  }
 ],
 "metadata": {
  "kernelspec": {
   "display_name": "Python 3",
   "language": "python",
   "name": "python3"
  },
  "language_info": {
   "codemirror_mode": {
    "name": "ipython",
    "version": 3
   },
   "file_extension": ".py",
   "mimetype": "text/x-python",
   "name": "python",
   "nbconvert_exporter": "python",
   "pygments_lexer": "ipython3",
   "version": "3.7.6"
  }
 },
 "nbformat": 4,
 "nbformat_minor": 4
}
